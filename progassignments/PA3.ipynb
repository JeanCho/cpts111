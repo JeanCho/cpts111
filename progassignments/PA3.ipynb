{
 "cells": [
  {
   "cell_type": "markdown",
   "metadata": {},
   "source": [
    "# [CptS 111 Introduction to Algorithmic Problem Solving](http://piazza.com/wsu/fall2016/cpts111/home)\n",
    "[Washington State University](https://wsu.edu)\n",
    "\n",
    "[Gina Sprint](http://eecs.wsu.edu/~gsprint/)\n",
    "## PA3 Conditionals (75 pts)\n",
    "<mark>Due Monday, October 10 at Midnight.</mark>\n",
    "\n",
    "### Learner Objectives\n",
    "At the conclusion of this programming assignment, participants should be able to:\n",
    "* Evaluate Boolean expressions\n",
    "* Apply relational and logical operators\n",
    "* Implement `if` statements\n",
    "\n",
    "### Prerequisites\n",
    "Before starting this programming assignment, participants should be able to:\n",
    "* Get input from the user\n",
    "* Display output to the user\n",
    "* Define and call functions"
   ]
  },
  {
   "cell_type": "markdown",
   "metadata": {
    "collapsed": true
   },
   "source": [
    "### Overview and Requirements\n",
    "Write an \"are you a fan\" quiz program (quiz.py). The program will quiz the user on a topic of your choosing (keep the topic appropriate!!). For quiz ideas, check out [this website](http://www.allthetests.com/fan-quizzes-tests-Fantests.php).\n",
    "\n",
    "Note: Please cite all sources you use in your code."
   ]
  },
  {
   "cell_type": "markdown",
   "metadata": {},
   "source": [
    "### Program Details\n",
    "Your quiz must contain 10 questions. These 10 questions include **at least 2 of each of the following different types of questions**:\n",
    "\n",
    "#### Multiple choice (5 options a-e)\n",
    "The user enters in a character \"a\" through \"e\" for their answer.\n",
    "\n",
    "Example:\n",
    "\n",
    "```\n",
    "1) The population of Pullman is roughly what? Please enter a character a-e.\n",
    "a) 10k\n",
    "b) 20k\n",
    "c) 30k\n",
    "d) 40k\n",
    "e) 50k\n",
    "```\n",
    "\n",
    "####  Numeric Response\n",
    "The user enters in a numeric response to an open ended question. I recommend prompting the user to enter an integer. If you choose to use floats, be specific to the user about how they should enter their response (i.e. rounded and/or a certain number of decimal places).\n",
    "\n",
    "Example:\n",
    "\n",
    "```\n",
    "How many students are enrolled in this class? Please enter an integer.\n",
    "```\n",
    "#### True/False (Boolean)\n",
    "The user enters 1 or 0 in response to a statement. Convert the string returned by `input()` into an integer, and then into a Boolean with the `bool()` type cast. Then compare rhe response to the reserved keywords `True` or `False`.\n",
    "\n",
    "Example:\n",
    "\n",
    "```\n",
    "Pullman used to be called \"Three Forks\", true or false? Please enter 1 for True or 0 for False.\n",
    "```\n",
    "\n",
    "Additional requirements:\n",
    "1. For each question:\n",
    "    1. **Define a function. The function should return the following**:\n",
    "        1. 1 (`int`) if the user answered correctly\n",
    "        1. 0 (`int`) if the user answered incorrectly\n",
    "    1. Explicitly tell the user the format in which they should enter their response. \n",
    "    1. Number each question.\n",
    "    1. If the user gets a question wrong, tell them and provide the correct answer.\n",
    "1. Define a `main()` function that drives your program. `main()` should count the number of correct answers (this is the user's quiz score).\n",
    "1. At the end of the quiz, tell the user their final score, plus a fun statement about how much of a \"fan\" they are of the quiz's topic (use an `if-elif-else` structure, which means you need at least 3 different fun statements based on the user's score)."
   ]
  },
  {
   "cell_type": "markdown",
   "metadata": {},
   "source": [
    "### Example Run\n",
    "Here is a shortened example run of a quiz based on Game of Thrones. Credit for much of the content goes to these two online quizzes: [Q1](http://www.allthetests.com/quiz32/quiz/1424600000/Game-Of-Thrones-Quiz) and [Q2](http://www.allthetests.com/quiz31/quiz/1421977678/A-Song-Of-Ice-And-FireGame-Of-Thrones-Quiz).\n",
    "\n",
    "```\n",
    "Welcome to the Game of Thrones Quiz!!\n",
    "1) Which Dire-wolf belonged to Robb? Please enter a character a-e.\n",
    "a) Lady\n",
    "b) Summer\n",
    "c) Grey Wind \n",
    "d) Nimeria\n",
    "e) Ghost\n",
    "b\n",
    "Sorry, that is wrong. The answer is c) Grey Wind.\n",
    "\n",
    "2) How many dragons does Daenerys own? Please enter an integer.\n",
    "\n",
    "3\n",
    "\n",
    "[output removed for brevity]\n",
    "\n",
    "9) Name one of Daenerys' dragons. Please enter a string in all lower case.\n",
    "\n",
    "drogon\n",
    "\n",
    "10) Who wins the Kingsmoot on the iron isles? Please enter a character a-e.\n",
    "a) Asha Greyjoy\n",
    "b) Reek\n",
    "c) Balon Greyjoy\n",
    "d) Euron Greyjoy\n",
    "e) Ramsay Bolton\n",
    "\n",
    "d\n",
    "You scored 9 questions correctly. Wow, you know your Game of Thrones!\n",
    "```"
   ]
  },
  {
   "cell_type": "markdown",
   "metadata": {},
   "source": [
    "### Submitting Assignments\n",
    "1.\tUse the Blackboard tool https://learn.wsu.edu to submit your assignment to your TA. You will submit your code to the corresponding programming assignment under the \"Content\" tab. You must upload your solutions as `<your last name>_pa3.zip` by the due date and time.\n",
    "2.\tYour .zip file should contain your .py file."
   ]
  },
  {
   "cell_type": "markdown",
   "metadata": {},
   "source": [
    "### Grading Guidelines\n",
    "This assignment is worth 75 points. Your assignment will be evaluated based on a successful compilation and adherence to the program requirements. We will grade according to the following criteria:\n",
    "* 30 pts for 6 functions defined to represent:\n",
    "    * (10 pts) At least 2 multiple choice questions\n",
    "    * (10 pts) At least 2 numeric response questions\n",
    "    * (10 pts) At least 2 Boolean questions\n",
    "* 5 pts for 4 functions defined to represent 4 additional questions (your choice on question type)\n",
    "* 10 pts for proper use of function `return` values to denote correct/incorrect answers\n",
    "* 5 pts for correct `main()` function\n",
    "* 5 points for numbering questions and stating the response format in your question prompts\n",
    "* 5 points for letting the user know the correct answer when they are wrong\n",
    "* 10 points for displaying a message at the end of the quiz based on the number of correct responses\n",
    "* 5 pts for adherence to proper programming style and comments established for the class"
   ]
  }
 ],
 "metadata": {
  "anaconda-cloud": {},
  "kernelspec": {
   "display_name": "Python [Root]",
   "language": "python",
   "name": "Python [Root]"
  },
  "language_info": {
   "codemirror_mode": {
    "name": "ipython",
    "version": 3
   },
   "file_extension": ".py",
   "mimetype": "text/x-python",
   "name": "python",
   "nbconvert_exporter": "python",
   "pygments_lexer": "ipython3",
   "version": "3.5.2"
  }
 },
 "nbformat": 4,
 "nbformat_minor": 0
}
