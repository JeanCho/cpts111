{
 "cells": [
  {
   "cell_type": "markdown",
   "metadata": {},
   "source": [
    "# [CptS 111 Introduction to Algorithmic Problem Solving](http://piazza.com/wsu/fall2016/cpts111/home)\n",
    "[Washington State University](https://wsu.edu)\n",
    "\n",
    "[Gina Sprint](http://eecs.wsu.edu/~gsprint/)\n",
    "## PA2 Functions (60 pts)\n",
    "<mark>Due Monday, September 26 at Midnight.</mark>\n",
    "\n",
    "### Learner Objectives\n",
    "At the conclusion of this programming assignment, participants should be able to:\n",
    "* Call functions\n",
    "* Define functions\n",
    "\n",
    "### Prerequisites\n",
    "Before starting this programming assignment, participants should be able to:\n",
    "* Use variables, `print()` statements, and collect input from the user with `input()`\n",
    "* Convert values from one type to another (type casting)\n",
    "* Apply basic arithmetic"
   ]
  },
  {
   "cell_type": "markdown",
   "metadata": {
    "collapsed": true
   },
   "source": [
    "### Overview and Requirements\n",
    "Write a program (distances.py) that computes distances between pairs of U.S. cities. To do this, we are going to use the [Google Maps API](https://developers.google.com/maps/web-services/overview). API stands for application programming interface. An API provides functions for programmers to use, without needing to know the details of the implementation. For example, Google Maps is a complex, well-tested program. We can use Google Maps via its API without knowing Google Map's details. This is also the beauty of functions. As long as we know:\n",
    "1. What function(s) to call\n",
    "1. What parameters the function(s) expect\n",
    "1. What the function(s) return\n",
    "\n",
    "Then we can use Google Maps!\n",
    "\n",
    "#### Program Details\n",
    "Write a program that prompts the user to enter 3 *pairs of cities*. A city is a string of the form: \"city, state abbreviation\". For example: `New York, NY`. \n",
    "\n",
    "The output of the program has two parts:\n",
    "1. Displays the *distance in miles* between the each pair of cities (3 pairs).\n",
    "1. Displays the *distance in miles* between each city (all 6 cities entered by the user: 3 pairs -> 6 cities) and Pullman, WA.\n",
    "\n",
    "All distances reported should be in miles and with two decimal places."
   ]
  },
  {
   "cell_type": "markdown",
   "metadata": {},
   "source": [
    "#### Starter Code\n",
    "At this point in the course, we haven't learned the skills necessary to query the Google Maps API and extract the distance from the response. Consequently, I am providing code for you to **copy and paste** into your program that does this for you:"
   ]
  },
  {
   "cell_type": "code",
   "execution_count": 1,
   "metadata": {
    "collapsed": true
   },
   "outputs": [],
   "source": [
    "import urllib.request\n",
    "\n",
    "def format_city_string(city_str):\n",
    "    '''\n",
    "    111 students: no need to call this function\n",
    "    To prepare the city string for the query:\n",
    "    1. remove comma\n",
    "    2. replace spaces with +\n",
    "    '''\n",
    "    city_str = city_str.replace(\",\", \"\")\n",
    "    city_str = city_str.replace(\" \", \"+\")\n",
    "    return city_str\n",
    "  \n",
    "def build_query(origin, dest):\n",
    "    '''\n",
    "    111 students: no need to call this function\n",
    "    Builds the query string for the Google Distance Matrix API according to this website:\n",
    "    https://developers.google.com/maps/documentation/distance-matrix/start\n",
    "    '''\n",
    "    query_base = \"http://maps.googleapis.com/maps/api/distancematrix/json?origins=\"    \n",
    "    query = query_base + origin\n",
    "    query += \"&destinations=\"\n",
    "    query += dest\n",
    "    query += \"&mode=driving&sensor=false\"\n",
    "    return query\n",
    "    \n",
    "def extract_distance(results_str):\n",
    "    '''\n",
    "    111 students: no need to call this function\n",
    "    Extracts the distance in meters from the JSON response.\n",
    "    '''\n",
    "    index = results_str.find(\"distance\")\n",
    "    results_str = results_str[index:]\n",
    "    index = results_str.find(\"value\")\n",
    "    results_str = results_str[index:]\n",
    "    index = results_str.find(\":\")\n",
    "    results_str = results_str[index + 2:]\n",
    "    index = results_str.find(r\"\\n\")\n",
    "    results_str = results_str[:index]\n",
    "    dist = int(results_str)\n",
    "    return dist\n",
    "    \n",
    "def get_distance(city1, city2):\n",
    "    '''\n",
    "    111 STUDENTS: THIS IS THE FUNCTION YOU WILL CALL\n",
    "    Accepts 2 strings representing cities in the U.S.\n",
    "    Returns the integer distance in meters between city1 and city2\n",
    "    '''\n",
    "    city1 = format_city_string(city1)\n",
    "    city2 = format_city_string(city2)\n",
    "    \n",
    "    query = build_query(city1, city2)\n",
    "\n",
    "    web_obj = urllib.request.urlopen(query)\n",
    "    # web_obj.read() returns an array of bytes, need to convert to a string\n",
    "    results_str = str(web_obj.read())\n",
    "    web_obj.close()\n",
    "    \n",
    "    dist = extract_distance(results_str)\n",
    "    return dist"
   ]
  },
  {
   "cell_type": "markdown",
   "metadata": {},
   "source": [
    "The only function you need to interact with is `get_distance(<city1 string>, <city2 string>)`. Here is an example of how to use `get_distance()`:"
   ]
  },
  {
   "cell_type": "code",
   "execution_count": 2,
   "metadata": {
    "collapsed": false
   },
   "outputs": [
    {
     "name": "stdout",
     "output_type": "stream",
     "text": [
      "The distance between Seattle, WA and Pullman, WA is 457923 meters\n"
     ]
    }
   ],
   "source": [
    "dist = get_distance(\"Seattle, WA\", \"Pullman, WA\")\n",
    "print(\"The distance between Seattle, WA and Pullman, WA is %d meters\" %(dist))"
   ]
  },
  {
   "cell_type": "markdown",
   "metadata": {},
   "source": [
    "#### Functions to Define\n",
    "For this program, define the following functions:\n",
    "1. `display_instructions()`: Accepts no arguments. Prints instructions describing the use of the program to the user.\n",
    "1. `get_city_string(pair_num, city_ordering)`: Accepts 2 arguments: `pair_num` an integer representing the pair number [1-3] and `city_ordering` a string representing whether this is the \"first\" or \"second\" city of the pair. Prompts the user to enter the city. Use `pair_num` and `city_ordering` to provide the user with information regarding the progress of entering city names. Returns a string representing the city.\n",
    "1. `meters_to_miles(meters)`: Accepts 1 argument: `meters` an integer representing the distance in meters. Converts `meters` to miles and returns the result as a floating point number.\n",
    "1. `display_city_distance(city1, city2, distance)`: Accepts 3 arguments: `city1` a string representing the first city of a pair, `city2` a string representing the second city of a pair, and `distance` an integer representing the distance in meters. Calls `meters_to_miles()` to convert `distance` from meters to miles and displays the result.\n",
    "1. `main()` function that drives the program.\n",
    "\n",
    "Feel free to define more functions as you see fit!"
   ]
  },
  {
   "cell_type": "markdown",
   "metadata": {},
   "source": [
    "#### Example Run\n",
    "Here is an example run of the program:\n",
    "\n",
    "```\n",
    "Welcome to the distance calculator program, utilizing Google Maps!\n",
    "You will be prompted to enter 3 pairs of cities. \n",
    "    \n",
    "Please enter cities in the form \"city, state abbreviation\".\n",
    "For example: New York, NY\n",
    "    \n",
    "The program will tell you the distances between each pair of cities. Enjoy!\n",
    "\n",
    "Please enter the first city for pair #1: \n",
    "Seattle, WA\n",
    "Please enter the second city for pair #1: \n",
    "Spokane, WA\n",
    "Please enter the first city for pair #2: \n",
    "Pullman, WA\n",
    "Please enter the second city for pair #2: \n",
    "Spokane, WA\n",
    "Please enter the first city for pair #3: \n",
    "New York, NY\n",
    "Please enter the second city for pair #3: \n",
    "Seattle, WA\n",
    "The distance between Seattle, WA and Spokane, WA is 278.93 miles\n",
    "The distance between Pullman, WA and Spokane, WA is 74.61 miles\n",
    "The distance between New York, NY and Seattle, WA is 2831.12 miles\n",
    "The distance between Seattle, WA and Pullman, WA is 284.54 miles\n",
    "The distance between Spokane, WA and Pullman, WA is 74.67 miles\n",
    "The distance between Pullman, WA and Pullman, WA is 0.00 miles\n",
    "The distance between Spokane, WA and Pullman, WA is 74.67 miles\n",
    "The distance between New York, NY and Pullman, WA is 2609.58 miles\n",
    "The distance between Seattle, WA and Pullman, WA is 284.54 miles\n",
    "```"
   ]
  },
  {
   "cell_type": "markdown",
   "metadata": {},
   "source": [
    "#### Bonus (5 pts)\n",
    "[`matplotlib`](http://matplotlib.org/index.html) is a Python library that produces beautiful publication-quality visualizations. To use `matplotlib`, we simply need to import it: `import matplotlib`. I've written a function, `plot_city_distances()` that accepts 12 arguments, 6 strings representing the cities entered by the user and 6 distances between the cities and Pullman:"
   ]
  },
  {
   "cell_type": "code",
   "execution_count": 1,
   "metadata": {
    "collapsed": true
   },
   "outputs": [],
   "source": [
    "import matplotlib.pyplot as plt\n",
    "\n",
    "def plot_city_distances(city1, dist1, city2, dist2, city3, dist3, city4, dist4, city5, dist5, city6, dist6):\n",
    "    '''\n",
    "    111 STUDENTS: THIS IS THE FUNCTION YOU WILL CALL FOR THE **BONUS** TASK\n",
    "    Accepts 6 strings representing cities in the U.S. and 6 distances in meters representing \n",
    "    the distance between the city and Pullman, WA\n",
    "    Ordering of the parameters is 6 pairs of city string, distance value\n",
    "    \n",
    "    Uses matplotlib functions to plot a bar graph of the city distances. \n",
    "    Save the plot by clicking on the save button on the toolbar of the plot window.\n",
    "    Press the X to close the window when you are done.\n",
    "    \n",
    "    This function does not return anything.\n",
    "    '''\n",
    "    x = [0, 1, 2, 3, 4, 5]    \n",
    "    x_labels = [city1, city2, city3, city4, city5, city6]\n",
    "    y = [meters_to_miles(dist1), meters_to_miles(dist2), meters_to_miles(dist3), meters_to_miles(dist4), \\\n",
    "         meters_to_miles(dist5), meters_to_miles(dist6)]\n",
    "    plt.bar(x, y)\n",
    "    plt.xticks(x, x_labels, rotation=45, ha='left')\n",
    "    plt.xlabel(\"City\")\n",
    "    plt.ylabel(\"Distance in Miles from Pullman\")\n",
    "    plt.tight_layout()\n",
    "    # show the window\n",
    "    plt.show()"
   ]
  },
  {
   "cell_type": "markdown",
   "metadata": {},
   "source": [
    "Copy and paste the above code into your distances.py files. Call `plot_city_distances()` passing in the city strings and distances to Pullman in meters. The function will show a window that looks like the following:\n",
    "![](https://raw.githubusercontent.com/gsprint23/cpts111/master/progassignments/figures/matplotlib_city_distances.png)\n",
    "\n",
    "Save the plot as a .png image file by clicking on the save icon in the toolbar (highlighted in the screen shot above). Turn in your saved city distances plot image file in with your distances.py file in your zip file."
   ]
  },
  {
   "cell_type": "markdown",
   "metadata": {},
   "source": [
    "### Submitting Assignments\n",
    "1.\tUse the Blackboard tool https://learn.wsu.edu to submit your assignment to your TA. You will submit your code to the corresponding programming assignment under the \"Content\" tab. You must upload your solutions as `<your last name>_pa2.zip` by the due date and time.\n",
    "2.\tYour .zip file should contain your .py file and your .png file *if you attempted the bonus task*."
   ]
  },
  {
   "cell_type": "markdown",
   "metadata": {},
   "source": [
    "### Grading Guidelines\n",
    "This assignment is worth 60 points + 5 points bonus. Your assignment will be evaluated based on a successful compilation and adherence to the program requirements. We will grade according to the following criteria:\n",
    "* 10 pts for correct `display_instructions()`\n",
    "* 10 pts for correct `get_city_string()`\n",
    "* 10 pts for correct `meters_to_miles()`\n",
    "* 15 pts for correct `display_city_distance()`\n",
    "* 10 pts for correct `main()` function that drives the program.\n",
    "* 5 pts for adherence to proper programming style and comments established for the class"
   ]
  }
 ],
 "metadata": {
  "kernelspec": {
   "display_name": "Python [Root]",
   "language": "python",
   "name": "Python [Root]"
  },
  "language_info": {
   "codemirror_mode": {
    "name": "ipython",
    "version": 3
   },
   "file_extension": ".py",
   "mimetype": "text/x-python",
   "name": "python",
   "nbconvert_exporter": "python",
   "pygments_lexer": "ipython3",
   "version": "3.5.2"
  }
 },
 "nbformat": 4,
 "nbformat_minor": 0
}
