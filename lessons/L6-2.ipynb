{
 "cells": [
  {
   "cell_type": "markdown",
   "metadata": {},
   "source": [
    "# [CptS 111 Introduction to Algorithmic Problem Solving](http://piazza.com/wsu/fall2016/cpts111/home)\n",
    "[Washington State University](https://wsu.edu)\n",
    "\n",
    "[Gina Sprint](http://eecs.wsu.edu/~gsprint/)\n",
    "# L6-2 Advanced If Statements\n",
    "\n",
    "Learner objectives for this lesson\n",
    "* Apply nested `if` statements\n",
    "* Apply multiple alternative `if` statments (`elif`)"
   ]
  },
  {
   "cell_type": "markdown",
   "metadata": {},
   "source": [
    "## Example Problem\n",
    "Suppose we want to write a game to have a user guess a number. We want to tell the user if they guess the number, if their guess is too high, or if their guess is too low."
   ]
  },
  {
   "cell_type": "code",
   "execution_count": null,
   "metadata": {
    "collapsed": true
   },
   "outputs": [],
   "source": [
    "num_to_guess = 4\n",
    "players_guess = 0\n",
    "\n",
    "print(\"Please enter a number between 1 and 10 inclusive\")\n",
    "players_guess = int(input())\n",
    "\n",
    "if players_guess == num_to_guess: # BC1\n",
    "    print(\"Congrats, you guessed the number correctly\")\n",
    "else:\n",
    "    print(\"Unfortunately, you guessed the number incorrectly; however, I will give you a hint\")\n",
    "    \n",
    "if players_guess > num_to_guess: # BC2\n",
    "    print(\"Your guess was too high\")\n",
    "\n",
    "# Note how we do NOT want an else here, that would cause == to say your guess was too low\n",
    "if players_guess < num_to_guess: # BC3\n",
    "    print(\"Your guess was too low\")"
   ]
  },
  {
   "cell_type": "markdown",
   "metadata": {
    "collapsed": true
   },
   "source": [
    "## Nested `if` Statements"
   ]
  },
  {
   "cell_type": "markdown",
   "metadata": {},
   "source": [
    "When a player's guess is not the number to guess (BC1 is False), we could give the hint in the body of the `else`. This would make sense because we only want to give a hint with BC1 is false, that is `players_guess != num_to_guess`. To do this, we can *nest* BC2 and BC3 in the `else` *body* of BC1 by indenting:"
   ]
  },
  {
   "cell_type": "code",
   "execution_count": 9,
   "metadata": {
    "collapsed": false
   },
   "outputs": [
    {
     "name": "stdout",
     "output_type": "stream",
     "text": [
      "Please enter a number between 1 and 10 inclusive\n",
      "6\n",
      "Unfortunately, you guessed the number incorrectly; however, I will give you a hint\n",
      "Your guess was too high\n"
     ]
    }
   ],
   "source": [
    "num_to_guess = 4\n",
    "players_guess = 0\n",
    "\n",
    "print(\"Please enter a number between 1 and 10 inclusive\")\n",
    "players_guess = int(input())\n",
    "\n",
    "if players_guess == num_to_guess: # BC 1\n",
    "    print(\"Congrats, you guessed the number correctly\")\n",
    "else: # players_guess != num_to_guess:\n",
    "    print(\"Unfortunately, you guessed the number incorrectly; however, I will give you a hint\")\n",
    "    if players_guess > num_to_guess: # BC 2\n",
    "        print(\"Your guess was too high\")\n",
    "    # this fixes the boundary case of == num_to_guess that we had previously\n",
    "    else: # players_Guess <= num_to_guess\n",
    "        print(\"Your guess was too low\")"
   ]
  },
  {
   "cell_type": "markdown",
   "metadata": {},
   "source": [
    "You can nest `if` statements as many times as you like; however, try to keep your code readable! Also, try to collapse your boolean conditions when appropriate. For example:"
   ]
  },
  {
   "cell_type": "code",
   "execution_count": 4,
   "metadata": {
    "collapsed": false
   },
   "outputs": [
    {
     "name": "stdout",
     "output_type": "stream",
     "text": [
      "Please enter a number between 1 and 10 inclusive\n",
      "5\n",
      "You are wrong but you get to try again\n",
      "You are wrong but you get to try again\n"
     ]
    }
   ],
   "source": [
    "num_guesses = 3\n",
    "\n",
    "print(\"Please enter a number between 1 and 10 inclusive\")\n",
    "players_guess = int(input())\n",
    "\n",
    "if players_guess != num_to_guess:\n",
    "    if num_guesses > 0:\n",
    "        print(\"You are wrong but you get to try again\")\n",
    "        \n",
    "# the above nested if can collapse into a compound condition\n",
    "if players_guess != num_to_guess and num_guesses > 0:\n",
    "    print(\"You are wrong but you get to try again\")"
   ]
  },
  {
   "cell_type": "markdown",
   "metadata": {},
   "source": [
    "## Multiple-Alternative `if` Statements\n",
    "Sometimes we want to have multiple boolean conditions in the same block of mutually exclusive `if` statements. We can do this with *multiple-alternative if statements* and the `elif` keyword. `elif` stands for `else-if`. Think of `elif` like an `else` with a Boolean condition to test.\n",
    "\n",
    "Consider yet another rewrite of the guessing game code:"
   ]
  },
  {
   "cell_type": "code",
   "execution_count": 5,
   "metadata": {
    "collapsed": false
   },
   "outputs": [
    {
     "name": "stdout",
     "output_type": "stream",
     "text": [
      "Please enter a number between 1 and 10 inclusive\n",
      "3\n",
      "Your guess was too low\n"
     ]
    }
   ],
   "source": [
    "num_to_guess = 4\n",
    "players_guess = 0\n",
    "\n",
    "print(\"Please enter a number between 1 and 10 inclusive\")\n",
    "players_guess = int(input())\n",
    "\n",
    "# a guess is either equal to, greater than, or less than \n",
    "if players_guess == num_to_guess: # BC 1\n",
    "    print(\"Congrats, you guessed the number correctly\")\n",
    "elif players_guess > num_to_guess: # BC 2\n",
    "    print(\"Your guess was too high\")\n",
    "else: # players_guess < num_to_guess\n",
    "    print(\"Your guess was too low\")"
   ]
  },
  {
   "cell_type": "markdown",
   "metadata": {},
   "source": [
    "Items to note about multiple-alternative if statements\n",
    "* Each condition is tested in order, from top to bottom (`if` first, then the first `elif`, then the second `elif`, etc., until the `else` if there is one). \n",
    "* When a condition is true, the corresonding test body will be executed. No further tests will be evaluated.\n",
    "    * The bodies of the `if`, `elif`, and `else` statements are mutually exclusive. Only one body will execute.\n",
    "    * Even if more than one condition is true, only the body of the first true condition will execute.\n",
    "* If there is an `else` block in a multiple-alternative statement (there doesn't have to be an `else` block), it has to be last (meaning after the `if` and `elif` tests)."
   ]
  },
  {
   "cell_type": "markdown",
   "metadata": {},
   "source": [
    "## TODO\n",
    "1. Study for midterm #1\n",
    "1. Work on PA3\n",
    "\n",
    "## Next Lesson\n",
    "We are going to learn about iterative statements! These are awesome because we can repeat code lots of times without typing it out over and over again. We will take our guessing game to the next level by letting a user repeatedly make a guess until they guess correctly. Of course, we will still give the hints!"
   ]
  }
 ],
 "metadata": {
  "kernelspec": {
   "display_name": "Python [Root]",
   "language": "python",
   "name": "Python [Root]"
  },
  "language_info": {
   "codemirror_mode": {
    "name": "ipython",
    "version": 3
   },
   "file_extension": ".py",
   "mimetype": "text/x-python",
   "name": "python",
   "nbconvert_exporter": "python",
   "pygments_lexer": "ipython3",
   "version": "3.5.2"
  }
 },
 "nbformat": 4,
 "nbformat_minor": 0
}
