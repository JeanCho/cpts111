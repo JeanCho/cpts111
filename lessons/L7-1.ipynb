{
 "cells": [
  {
   "cell_type": "markdown",
   "metadata": {},
   "source": [
    "# [CptS 111 Introduction to Algorithmic Problem Solving](http://piazza.com/wsu/fall2016/cpts111/home)\n",
    "[Washington State University](https://wsu.edu)\n",
    "\n",
    "[Gina Sprint](http://eecs.wsu.edu/~gsprint/)\n",
    "# L7-1 Exam #1 Review"
   ]
  },
  {
   "cell_type": "markdown",
   "metadata": {
    "collapsed": true
   },
   "source": [
    "## What to Bring?\n",
    "* Two sharp pencils\n",
    "* Python Programming knowledge in your head :)\n",
    "* A \"cheat sheet\" (see below)  \n",
    "\n",
    "## What NOT to Bring?\n",
    "* Electronics (including calculators) may not be used during the exam!\n",
    "* Notes may not be used during the exam!\n",
    "\n",
    "Note: If you are caught cheating, your exam will be confiscated and you will receive a 0.\n",
    "\n",
    "Note: Use the restroom before class. **Once testing starts, the only reason for leaving the classroom is turning in your exam as done.**\n",
    "\n",
    "## The \"Cheat Sheet\"\n",
    "The exam will be closed-book, but you will be allowed a **handwritten** \"cheat sheet\": one side of a page whose dimensions may not exceed 8-1/2\" by 5-1/2\" (i.e. **one-half of a standard sheet of notebook paper**). You must present your cheat sheet to myself or a TA so it can be verified that it meets regulations. \n",
    "\n",
    "If you bring/use a cheat sheet that: \n",
    "1. Exceeds the allowable dimensions\n",
    "1. Has writing on both sides of the page\n",
    "1. Contains non-handwritten text (i.e. printed)\n",
    "\n",
    "You run the risk of its being confiscated prior to the exam. This policy will be strictly enforced.\n",
    "\n",
    "If you choose to use a cheat sheet, you will be required to turn in your cheat sheet with your exam.\n",
    "\n",
    "## Exam Timeframe\n",
    "Please be aware that, because you will be taking the exam during a normal lecture period (50 minutes), time will be extremely tight for the exam so manage your time well. If you show up late to class, you will have less time to take the exam. "
   ]
  },
  {
   "cell_type": "markdown",
   "metadata": {},
   "source": [
    "## Exam Coverage\n",
    "The exam covers the everything we have covered so far in the course. Here is an outline of the topics we have covered so far:\n",
    "\n",
    "### 1 Introduction to Computer Science, Programming, and Python\n",
    "(Chapter 1 *The Way of the Program* in the Downey textbook.)\n",
    "\n",
    "* Define what is an algorithm\n",
    "    * Formal definition\n",
    "    * Examples\n",
    "* What are the 6 fundamental operations a computer can perform?\n",
    "* What are high-level programming languages?\n",
    "    * The continuum of languages\n",
    "    * How the Python Interpreter works\n",
    "* Define what is a comment\n",
    "    * Single line comments\n",
    "    * Block (multi-line) comments\n",
    "* Describe and provide examples of each\n",
    "    1. Standard identifiers\n",
    "    1. User-defined identifiers\n",
    "    1. Reserved keywords\n",
    "* Describe the rules for naming an identifier\n",
    "    * Consider Python constraints and naming conventions used in the class\n",
    "    * Python is case sensitive\n",
    "* Define what is a variable\n",
    "    * Memory is allocated when a variable is declared\n",
    "    * Assigning a value to a variable\n",
    "    * How to read `y = 5`: \"y gets x\" or \"y is assigned x\"\n",
    "* Define what is a data type\n",
    "* List three Python types and examples of each\n",
    "    1. Integer (`int`)\n",
    "    1. Floating-point (`float`)\n",
    "    1. String (`str`)\n",
    "* Input/output functions\n",
    "    * Apply `print()` and `input()`\n",
    "    * Describe what is a prompt\n",
    "* Using the `help()` function\n",
    "* Define and apply escape sequences (the newline (\\n)  and double quote (\\\") are examples of escape sequences)\n",
    "* Describe and apply elements of \"good\" Python style and \"best\" programming practices"
   ]
  },
  {
   "cell_type": "markdown",
   "metadata": {},
   "source": [
    "### 2 Arithmetic\n",
    "(Chapter 2 *Variables, Expressions, and Statements* in the Downey textbook)\n",
    "\n",
    "* Apply operators to Python types\n",
    "    * Arithmetic operators include: +, -, *, /, //, %, and $**$\n",
    "* Construct and evaluate valid numerical expressions, including mixed-type expressions\n",
    "* Apply operator precedence (review the precedence table!!)\n",
    "    * *, /, //, % have the same precedence\n",
    "    * +, - have the same precedence, but lower than *, /, //, %\n",
    "* Type casting (type conversion)\n",
    "    * `int()`\n",
    "    * `float()`\n",
    "    * `str()`\n",
    "* Formatting numeric output using placeholders in a string\n",
    "    * %d\n",
    "    * %f, %.2f, etc.\n",
    "    * %s\n",
    "* What is the general algorithm applied to problems in this course?\n",
    "    * Get inputs\n",
    "    * Perform computations\n",
    "    * Output results"
   ]
  },
  {
   "cell_type": "markdown",
   "metadata": {},
   "source": [
    "### 3 Functions\n",
    "(Chapter 3 *Functions*, Chapter 6 *Fruitful Functions*, and Appendix A *Debugging* in the Downey textbook)\n",
    "* Define what is a module\n",
    "* Apply the `import` reserved keyword\n",
    "* Apply Python `math` module variables and functions\n",
    "    * Some of these include: `pi`, `sqrt()`, `sin()`, `cos()`, etc.\n",
    "* Define what is a function in Python\n",
    "    * General rule-of-thumb is 1 function = 1 algorithm = 1 task\n",
    "* Construct functions that solve sub-problems\n",
    "* Define parameter, argument, global variable, and local variable\n",
    "* Name, order of arguments, and return value are very important\n",
    "* Cite advantages of using functions in Python\n",
    "* What is a function call? How do arguments relate to function calls?\n",
    "* Define what is scope\n",
    "* How do functions communicate with `main()` and vice versa?\n",
    "* What is a calling function?\n",
    "* What is the call stack and how does Python use it?\n",
    "* What is a docstring\n",
    "* Describe and provide examples of the three types of errors that can occur in a program\n",
    "    * Describe what is a syntax error\n",
    "        * Which software tool reports these errors?\n",
    "    * Explain what is a logic error\n",
    "    * Describe what is a runtime error\n",
    "* How to debug your program?"
   ]
  },
  {
   "cell_type": "markdown",
   "metadata": {},
   "source": [
    "### 4 Conditionals\n",
    "(Chapter 5 (no recursion) *Conditionals and Recursion* in the Downey textbook)\n",
    "* What is a Boolean condition?\n",
    "* List and apply relational operators\n",
    "    * These include: <, >, <=, >=, ==, !=\n",
    "    * Distinguish between = and ==\n",
    "* List and apply logical operators\n",
    "    * These include: `not`, `and`, `or`\n",
    "* Apply Boolean operator precedence (review the precedence table!!)\n",
    "* Describe what is short circuit evaluation?\n",
    "    * Applies to conditional statements with compound logic\n",
    "* Define and apply Boolean expressions\n",
    "    * DeMorgan's Law\n",
    "* Construct multiple alternative `if` statements in Python\n",
    "* Construct nested `if` statements\n",
    "* How is false defined in Python? How about true?\n",
    "    * `bool` type\n",
    "* Define what is a predicate function"
   ]
  },
  {
   "cell_type": "markdown",
   "metadata": {},
   "source": [
    "### Other Topics\n",
    "(Section 4.1 *The `turtle` Module* in the Downey Textbook)\n",
    "* Turtle graphics"
   ]
  },
  {
   "cell_type": "markdown",
   "metadata": {},
   "source": [
    "## Recommended Strategy for Preparing for the Exam\n",
    "The exam questions will require you to solve problems in a variety of formats: defining key terms, evaluating expressions, writing code, determining the output of code, etc.\n",
    "\n",
    "I recommend that you use the following activities and materials to prepare for the exam:\n",
    "* Review quizzes, lab exercises, programming assignments, and problems solved in class\n",
    "    * These may well be your best resource. An excellent learning activity would be to retake the quizzes and re-solve the lab exercises, in class exercises, and programming assignments. \n",
    "* Lesson notes and example code\n",
    "* Read the textbook\n",
    "    * Read or re-read chapters 1-3, 5 (no recursion), 6, and Appendix A and in the Downey textbook. "
   ]
  },
  {
   "cell_type": "markdown",
   "metadata": {},
   "source": [
    "## Extra Practice Problems\n",
    "### 1\n",
    "What is the output of the following code?"
   ]
  },
  {
   "cell_type": "code",
   "execution_count": null,
   "metadata": {
    "collapsed": false
   },
   "outputs": [],
   "source": [
    "y = 55.9\n",
    "x = 1 // 3\n",
    "print(\"The value %.2f is in the variable x\\n\" %(x))\n",
    "x = 4\n",
    "print(\"The value %.1f is in the variable x\\n\" %(x))\n",
    "print(\"The value %d is in the variable y\\n\" %(y))"
   ]
  },
  {
   "cell_type": "markdown",
   "metadata": {},
   "source": [
    "### 2\n",
    "Define and call a function that accepts 2 floats called `operand1` and `operand2` and a string called `op`. Return the result value of `operand1 op operand2` for the operators \"+\", \"-\", \"*\", \"/\", \"//\", \"%\"."
   ]
  },
  {
   "cell_type": "markdown",
   "metadata": {},
   "source": [
    "### 3\n",
    "Define and call a function that accepts 3 numbers. The function computes and returns the average of the three numbers."
   ]
  },
  {
   "cell_type": "markdown",
   "metadata": {},
   "source": [
    "### 4\n",
    "What is the output of the following code?"
   ]
  },
  {
   "cell_type": "code",
   "execution_count": null,
   "metadata": {
    "collapsed": false
   },
   "outputs": [],
   "source": [
    "def my_function(param1, param2):\n",
    "    num1 = 5\n",
    "    param2 = 2 + num1\n",
    "    print(\"%d %d\" %(num1, param2))\n",
    "    param1 = num1 * param2\n",
    "    return param1\n",
    "\n",
    "def main():\n",
    "    num1 = 3\n",
    "    num2 = 2\n",
    "    ret_val = my_function(num2, num1)\n",
    "    print(\"%d %d %d\" %(num1, num2, ret_val))\n",
    "\n",
    "main()"
   ]
  },
  {
   "cell_type": "markdown",
   "metadata": {},
   "source": [
    "### 5\n",
    "Evaluate the expressions below. To check your work, run the program to see the output."
   ]
  },
  {
   "cell_type": "code",
   "execution_count": null,
   "metadata": {
    "collapsed": false
   },
   "outputs": [],
   "source": [
    "print(5 // 3 * 2 / (4 % 3) + 5)\n",
    "print(6.0 * 7 * 2 / 4 + 5 * 11)\n",
    "print(6 % 4 + 9.0 / 4 + 2 * 5)\n",
    "print(22 / 44 + (3 % 31))\n",
    "print(15.0 - 4 // 6 + 2.0 * 1 - (14 % 6))\n",
    "print(5 % 9 == 5 or (6 * 3 // 4 > 4 and 20 / 6 != 3))\n",
    "print(4 > 3 and 2 == 2 and 3 > 9 and 34532 // 324 > 293)"
   ]
  },
  {
   "cell_type": "markdown",
   "metadata": {},
   "source": [
    "### 6\n",
    "Complement the following statements by applying DeMorgan's Law. Reduce the expressions it to the simplest terms possible:\n",
    "1. `!(!(x and !y) or (x and y > 0)`\n",
    "1. `a or !(b and !(x < y) or a == 0)`"
   ]
  },
  {
   "cell_type": "markdown",
   "metadata": {},
   "source": [
    "### 7\n",
    "Write a program that prompts the user to enter a distance in kilometers. As part of your program, write and call the following functions:\n",
    "1. A function to get a distance in kilometers from the user.\n",
    "1. A function that converts a distance in kilometers to a distance in meters. The relationship between kilometers and meters is: 1 kilometer = 1000 meters\n",
    "1. A function to display the resulting meters."
   ]
  },
  {
   "cell_type": "markdown",
   "metadata": {},
   "source": [
    "### 8\n",
    "Define and call a function called `volume_pyramid()` that accepts two floating-point input parameters, which represent the base (B) and height (h) of the square pyramid. The function returns the volume (V) of the pyramid defined by the two parameters. Recall: $V = 1/3 \\times (B \\times h)$"
   ]
  },
  {
   "cell_type": "markdown",
   "metadata": {},
   "source": [
    "### 9\n",
    "Define and call a function `sum_multiples_of_3_7()` that returns the sum of the integers that are multiples of 3 AND 7. The function should accept three integer values as parameters. \n",
    "\n",
    "For example, your function should return 63 if 7, 21, and 42 are passed into it or 0 if 8, 3, and -7 are passed into it, etc."
   ]
  },
  {
   "cell_type": "markdown",
   "metadata": {},
   "source": [
    "### 10\n",
    "Write a function called `compute_discount_amount()` that determines the total discount, in dollars, for a customer based on age and student/employment status. The function accepts the ticket price (a floating-point) and age (an integer) as input parameters and does the following to determine the discount.\n",
    "\n",
    "1. Prompts the user for student status of customer. The user should enter \"y\" if they are currently a student; \"n\" otherwise.\n",
    "1. Prompts the user for employment status of customer. The user should type \"y\" if they are a WSU employee; \"n\" otherwise.\n",
    "1. A customer may be a student and an employee. A customer is considered a senior citizen if they are 65 years or older. The following discounts should be applied: 10% for employees, 12% for senior citizens, 15% for students, and 20% for students who are also employees. The function returns the value of the ticket price times the discount percentage."
   ]
  },
  {
   "cell_type": "markdown",
   "metadata": {},
   "source": [
    "### 11\n",
    "Given the following `main()` function, write the `evenly_divisible()` function. \n",
    "\n",
    "The `evenly_divisible()` function returns `True` if the first parameter is evenly divisible by the second, or vice versa and `False` otherwise. (Note: What about if the user enters a 0?)"
   ]
  },
  {
   "cell_type": "code",
   "execution_count": null,
   "metadata": {
    "collapsed": true
   },
   "outputs": [],
   "source": [
    "def main():\n",
    "    print(\"Please enter the first integer: \")\n",
    "    num1 = int(input())\n",
    "    print(\"Please enter the second integer: \")\n",
    "    num2 = int(input())\n",
    "    if evenly_divisible(num1, num2):\n",
    "        print(\"The two integers are evenly divisible\")\n",
    "    else:\n",
    "        print(\"The two integers are not evenly divisible\")"
   ]
  },
  {
   "cell_type": "markdown",
   "metadata": {},
   "source": [
    "### 12\n",
    "Fix all syntax, logic, and runtime errors found in the following Python code. Be sure to look for omitted keywords, values, and punctuation."
   ]
  },
  {
   "cell_type": "code",
   "execution_count": null,
   "metadata": {
    "collapsed": false
   },
   "outputs": [],
   "source": [
    "def main(value)\n",
    "    character = \"A\",\n",
    "    \n",
    "    print(\"Enter a character: )\n",
    "    character == input()\n",
    "    retun character"
   ]
  },
  {
   "cell_type": "markdown",
   "metadata": {},
   "source": [
    "## TODO\n",
    "1. Please study for the exam! At a *minimum*:\n",
    "    * Work or re-work through:\n",
    "        * Problems 1-3 from L2-2 and L5-1\n",
    "        * Tasks from the review lab: [Lab 6](http://nbviewer.jupyter.org/github/gsprint23/cpts111/blob/master/labs/Lab6.ipynb)\n",
    "        * Applying functions to PA1\n",
    "        * PA2 and PA3\n",
    "    * Review key concepts and definitions\n",
    "1. Work on PA3.\n",
    "\n",
    "## Next Lesson\n",
    "1. We have midterm #1.\n",
    "1. Next week, we start loops!"
   ]
  }
 ],
 "metadata": {
  "anaconda-cloud": {},
  "kernelspec": {
   "display_name": "Python [Root]",
   "language": "python",
   "name": "Python [Root]"
  },
  "language_info": {
   "codemirror_mode": {
    "name": "ipython",
    "version": 3
   },
   "file_extension": ".py",
   "mimetype": "text/x-python",
   "name": "python",
   "nbconvert_exporter": "python",
   "pygments_lexer": "ipython3",
   "version": "3.5.2"
  }
 },
 "nbformat": 4,
 "nbformat_minor": 0
}
